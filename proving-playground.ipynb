{
 "cells": [
  {
   "cell_type": "code",
   "execution_count": 1,
   "metadata": {},
   "outputs": [],
   "source": [
    "import issue_request as ir\n",
    "import requests\n",
    "import pandas as pd\n",
    "import os\n",
    "pd.set_option('max_colwidth',140)"
   ]
  },
  {
   "cell_type": "code",
   "execution_count": 2,
   "metadata": {},
   "outputs": [],
   "source": [
    "ir = ir.IssueRequest(label='good first issue', email=os.environ['your_gh_email'], password=os.environ['your_gh_pw'])"
   ]
  },
  {
   "cell_type": "code",
   "execution_count": 3,
   "metadata": {},
   "outputs": [],
   "source": [
    "issues = ir.get_issues()"
   ]
  },
  {
   "cell_type": "code",
   "execution_count": 4,
   "metadata": {},
   "outputs": [
    {
     "data": {
      "text/plain": [
       "200"
      ]
     },
     "execution_count": 4,
     "metadata": {},
     "output_type": "execute_result"
    }
   ],
   "source": [
    "issues.status_code"
   ]
  },
  {
   "cell_type": "code",
   "execution_count": 5,
   "metadata": {},
   "outputs": [],
   "source": [
    "df = pd.DataFrame.from_dict(issues.json()['items'])[['id','title','created_at','html_url']]"
   ]
  },
  {
   "cell_type": "code",
   "execution_count": 6,
   "metadata": {},
   "outputs": [
    {
     "data": {
      "text/html": [
       "<div>\n",
       "<style scoped>\n",
       "    .dataframe tbody tr th:only-of-type {\n",
       "        vertical-align: middle;\n",
       "    }\n",
       "\n",
       "    .dataframe tbody tr th {\n",
       "        vertical-align: top;\n",
       "    }\n",
       "\n",
       "    .dataframe thead th {\n",
       "        text-align: right;\n",
       "    }\n",
       "</style>\n",
       "<table border=\"1\" class=\"dataframe\">\n",
       "  <thead>\n",
       "    <tr style=\"text-align: right;\">\n",
       "      <th></th>\n",
       "      <th>id</th>\n",
       "      <th>title</th>\n",
       "      <th>created_at</th>\n",
       "      <th>html_url</th>\n",
       "    </tr>\n",
       "  </thead>\n",
       "  <tbody>\n",
       "    <tr>\n",
       "      <th>0</th>\n",
       "      <td>625338943</td>\n",
       "      <td>Add Lock Command</td>\n",
       "      <td>2020-05-27T03:03:01Z</td>\n",
       "      <td>https://github.com/DylanDirlam/Astral/issues/2</td>\n",
       "    </tr>\n",
       "    <tr>\n",
       "      <th>1</th>\n",
       "      <td>625335777</td>\n",
       "      <td>へへへわはは</td>\n",
       "      <td>2020-05-27T02:53:17Z</td>\n",
       "      <td>https://github.com/iwata-lab/practice-paper/issues/22</td>\n",
       "    </tr>\n",
       "    <tr>\n",
       "      <th>2</th>\n",
       "      <td>625335187</td>\n",
       "      <td>FormError as summary before publishing</td>\n",
       "      <td>2020-05-27T02:51:31Z</td>\n",
       "      <td>https://github.com/statisticsnorway/klass-subsets-client/issues/121</td>\n",
       "    </tr>\n",
       "    <tr>\n",
       "      <th>3</th>\n",
       "      <td>625333776</td>\n",
       "      <td>First issue, edited</td>\n",
       "      <td>2020-05-27T02:47:17Z</td>\n",
       "      <td>https://github.com/jluisgg/github-essentials/issues/1</td>\n",
       "    </tr>\n",
       "    <tr>\n",
       "      <th>4</th>\n",
       "      <td>625331241</td>\n",
       "      <td>Common Issue: camera or mic access permission not show on page load</td>\n",
       "      <td>2020-05-27T02:39:52Z</td>\n",
       "      <td>https://github.com/CultureHub/LiveLab/issues/3</td>\n",
       "    </tr>\n",
       "  </tbody>\n",
       "</table>\n",
       "</div>"
      ],
      "text/plain": [
       "          id  \\\n",
       "0  625338943   \n",
       "1  625335777   \n",
       "2  625335187   \n",
       "3  625333776   \n",
       "4  625331241   \n",
       "\n",
       "                                                                  title  \\\n",
       "0                                                      Add Lock Command   \n",
       "1                                                                へへへわはは   \n",
       "2                                FormError as summary before publishing   \n",
       "3                                                   First issue, edited   \n",
       "4  Common Issue: camera or mic access permission not show on page load    \n",
       "\n",
       "             created_at  \\\n",
       "0  2020-05-27T03:03:01Z   \n",
       "1  2020-05-27T02:53:17Z   \n",
       "2  2020-05-27T02:51:31Z   \n",
       "3  2020-05-27T02:47:17Z   \n",
       "4  2020-05-27T02:39:52Z   \n",
       "\n",
       "                                                              html_url  \n",
       "0                       https://github.com/DylanDirlam/Astral/issues/2  \n",
       "1                https://github.com/iwata-lab/practice-paper/issues/22  \n",
       "2  https://github.com/statisticsnorway/klass-subsets-client/issues/121  \n",
       "3                https://github.com/jluisgg/github-essentials/issues/1  \n",
       "4                       https://github.com/CultureHub/LiveLab/issues/3  "
      ]
     },
     "execution_count": 6,
     "metadata": {},
     "output_type": "execute_result"
    }
   ],
   "source": [
    "df.head()"
   ]
  }
 ],
 "metadata": {
  "kernelspec": {
   "display_name": "Python 3",
   "language": "python",
   "name": "python3"
  },
  "language_info": {
   "codemirror_mode": {
    "name": "ipython",
    "version": 3
   },
   "file_extension": ".py",
   "mimetype": "text/x-python",
   "name": "python",
   "nbconvert_exporter": "python",
   "pygments_lexer": "ipython3",
   "version": "3.7.7"
  }
 },
 "nbformat": 4,
 "nbformat_minor": 4
}
